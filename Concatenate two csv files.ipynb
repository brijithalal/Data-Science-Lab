{
 "cells": [
  {
   "cell_type": "code",
   "execution_count": 1,
   "id": "8cd109a3",
   "metadata": {},
   "outputs": [
    {
     "name": "stdout",
     "output_type": "stream",
     "text": [
      "   CustomerID  Gender  Age  Annual Income(k$)  Spending Score\n",
      "0           1    Male   20                 10              30\n",
      "1           2  Female   21                 20              50\n",
      "2           3  Female   19                 30              48\n",
      "3           4    Male   18                 10              84\n",
      "4           5    Male   25                 25              90\n",
      "5           6  Female   26                 60              65\n",
      "6           7    Male   32                 70              32\n",
      "7           8    Male   41                 15              46\n",
      "8           9  Female   20                 21              12\n",
      "9          10    Male   19                 22              56\n"
     ]
    }
   ],
   "source": [
    "import pandas as pd\n",
    " \n",
    "# initialise data dictionary.\n",
    "data_dict1 = {'CustomerID': [1, 2, 3, 4, 5, 6, 7, 8, 9, 10],\n",
    "              \n",
    "             'Gender': [\"Male\", \"Female\", \"Female\", \"Male\",\n",
    "                        \"Male\", \"Female\", \"Male\", \"Male\",\n",
    "                        \"Female\", \"Male\"],\n",
    "              \n",
    "             'Age': [20, 21, 19, 18, 25, 26, 32, 41, 20, 19],\n",
    "              \n",
    "             'Annual Income(k$)': [10, 20, 30, 10, 25, 60, 70,\n",
    "                                   15, 21, 22],\n",
    "              \n",
    "             'Spending Score': [30, 50, 48, 84, 90, 65, 32, 46,\n",
    "                                12, 56]}\n",
    " \n",
    "# Create DataFrame\n",
    "data1 = pd.DataFrame(data_dict1)\n",
    " \n",
    "# Write to CSV file\n",
    "data1.to_csv(\"Customers1.csv\")\n",
    " \n",
    "# Print the output.\n",
    "print(data1)"
   ]
  },
  {
   "cell_type": "code",
   "execution_count": 2,
   "id": "dacf6a77",
   "metadata": {},
   "outputs": [
    {
     "name": "stdout",
     "output_type": "stream",
     "text": [
      "   CustomerID  Gender  Age  Annual Income(k$)  Spending Score\n",
      "0          11    Male   23                 10              38\n",
      "1          12  Female   33                 20              59\n",
      "2          13  Female   19                 30              48\n",
      "3          14    Male   18                 10              99\n",
      "4          15    Male   25                 25              94\n",
      "5          16  Female   26                 60              66\n",
      "6          17    Male   32                 70              44\n",
      "7          18    Male   41                 15              51\n",
      "8          19  Female   20                 21              12\n",
      "9          20    Male   19                 22              56\n"
     ]
    }
   ],
   "source": [
    "data_dict2 = {'CustomerID': [11, 12, 13, 14, 15, 16, 17, 18, 19, 20],\n",
    "              \n",
    "             'Gender': [\"Male\", \"Female\", \"Female\", \"Male\",\n",
    "                        \"Male\", \"Female\", \"Male\", \"Male\",\n",
    "                        \"Female\", \"Male\"],\n",
    "              \n",
    "             'Age': [23, 33, 19, 18, 25, 26, 32, 41, 20, 19],\n",
    "              \n",
    "             'Annual Income(k$)': [10, 20, 30, 10, 25, 60, 70,\n",
    "                                   15, 21, 22],\n",
    "              \n",
    "             'Spending Score': [38, 59, 48, 99, 94, 66, 44, 51,\n",
    "                                12, 56]}\n",
    " \n",
    "# Create DataFrame\n",
    "data2 = pd.DataFrame(data_dict2)\n",
    " \n",
    "# Write to CSV file\n",
    "data2.to_csv(\"Customers2.csv\")\n",
    " \n",
    "# Print the output.\n",
    "print(data2)"
   ]
  },
  {
   "cell_type": "code",
   "execution_count": 3,
   "id": "eb7bca89",
   "metadata": {},
   "outputs": [
    {
     "name": "stdout",
     "output_type": "stream",
     "text": [
      "    Unnamed: 0  CustomerID  Gender  Age  Annual Income(k$)  Spending Score\n",
      "0            0           1    Male   20                 10              30\n",
      "1            1           2  Female   21                 20              50\n",
      "2            2           3  Female   19                 30              48\n",
      "3            3           4    Male   18                 10              84\n",
      "4            4           5    Male   25                 25              90\n",
      "5            5           6  Female   26                 60              65\n",
      "6            6           7    Male   32                 70              32\n",
      "7            7           8    Male   41                 15              46\n",
      "8            8           9  Female   20                 21              12\n",
      "9            9          10    Male   19                 22              56\n",
      "10           0          11    Male   23                 10              38\n",
      "11           1          12  Female   33                 20              59\n",
      "12           2          13  Female   19                 30              48\n",
      "13           3          14    Male   18                 10              99\n",
      "14           4          15    Male   25                 25              94\n",
      "15           5          16  Female   26                 60              66\n",
      "16           6          17    Male   32                 70              44\n",
      "17           7          18    Male   41                 15              51\n",
      "18           8          19  Female   20                 21              12\n",
      "19           9          20    Male   19                 22              56\n"
     ]
    }
   ],
   "source": [
    "df = pd.concat(map(pd.read_csv, ['Customers1.csv', 'Customers2.csv']), ignore_index=True)\n",
    "print(df)"
   ]
  },
  {
   "cell_type": "code",
   "execution_count": null,
   "id": "652d027d",
   "metadata": {},
   "outputs": [],
   "source": []
  }
 ],
 "metadata": {
  "kernelspec": {
   "display_name": "Python 3 (ipykernel)",
   "language": "python",
   "name": "python3"
  },
  "language_info": {
   "codemirror_mode": {
    "name": "ipython",
    "version": 3
   },
   "file_extension": ".py",
   "mimetype": "text/x-python",
   "name": "python",
   "nbconvert_exporter": "python",
   "pygments_lexer": "ipython3",
   "version": "3.9.13"
  }
 },
 "nbformat": 4,
 "nbformat_minor": 5
}
