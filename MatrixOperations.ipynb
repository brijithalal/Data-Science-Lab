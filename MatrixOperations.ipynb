{
 "cells": [
  {
   "cell_type": "code",
   "execution_count": 1,
   "id": "e2a13893",
   "metadata": {},
   "outputs": [
    {
     "name": "stdout",
     "output_type": "stream",
     "text": [
      "type: <class 'numpy.ndarray'>\n",
      "shape: 3\n",
      "1 2 3\n",
      "[7 2 3]\n"
     ]
    }
   ],
   "source": [
    "import numpy as np\n",
    "a=np.array([1,2,3])\n",
    "print(\"type: %s\" %type(a))\n",
    "print(\"shape: %s\" %a.shape)\n",
    "print(a[0],a[1],a[2])\n",
    "a[0]=7\n",
    "print(a)"
   ]
  },
  {
   "cell_type": "code",
   "execution_count": 2,
   "id": "c6a40153",
   "metadata": {},
   "outputs": [
    {
     "name": "stdout",
     "output_type": "stream",
     "text": [
      "shape of b: (2, 3)\n",
      "1 2 4\n"
     ]
    }
   ],
   "source": [
    "b=np.array([[1,2,3],[4,5,6]])\n",
    "print(\"shape of b:\",b.shape)\n",
    "print(b[0,0],b[0,1],b[1,0])"
   ]
  },
  {
   "cell_type": "code",
   "execution_count": 3,
   "id": "5a229ae3",
   "metadata": {},
   "outputs": [
    {
     "name": "stdout",
     "output_type": "stream",
     "text": [
      "All zeros matrix: [[0. 0.]\n",
      " [0. 0.]]\n"
     ]
    }
   ],
   "source": [
    "a=np.zeros((2,2)) \n",
    "print(\"All zeros matrix: %s\" %a)"
   ]
  },
  {
   "cell_type": "code",
   "execution_count": 4,
   "id": "33b7b528",
   "metadata": {},
   "outputs": [
    {
     "name": "stdout",
     "output_type": "stream",
     "text": [
      "All zeros matrix: [[1. 1.]\n",
      " [1. 1.]]\n"
     ]
    }
   ],
   "source": [
    "a=np.ones((2,2)) \n",
    "print(\"All zeros matrix: %s\" %a)"
   ]
  },
  {
   "cell_type": "code",
   "execution_count": 5,
   "id": "76ee8b6a",
   "metadata": {},
   "outputs": [
    {
     "name": "stdout",
     "output_type": "stream",
     "text": [
      "identify matrix: [[1. 0.]\n",
      " [0. 1.]]\n"
     ]
    }
   ],
   "source": [
    "d=np.eye(2) #eye() function is used to create a 2-D array with ones on the diagonal and zeros elsewhere.\n",
    "print(\"identify matrix: %s\" %d)"
   ]
  },
  {
   "cell_type": "code",
   "execution_count": 6,
   "id": "13026fe9",
   "metadata": {},
   "outputs": [
    {
     "name": "stdout",
     "output_type": "stream",
     "text": [
      "Random matrix: [[0.55150622 0.92157778]\n",
      " [0.56552125 0.69599611]]\n"
     ]
    }
   ],
   "source": [
    "e=np.random.random((2,2)) #Return random floats of two dimensions\n",
    "print(\"Random matrix: %s\" %e)"
   ]
  },
  {
   "cell_type": "code",
   "execution_count": 7,
   "id": "5f475f9a",
   "metadata": {},
   "outputs": [
    {
     "name": "stdout",
     "output_type": "stream",
     "text": [
      "Vectorized sum\n",
      "x:[[1 2]\n",
      " [3 4]]\n",
      "Sum of x:10\n",
      "Sum axis=0 [4 6]\n",
      "Sum axis=1 [3 7]\n"
     ]
    }
   ],
   "source": [
    "print(\"Vectorized sum\")\n",
    "x=np.array([[1,2],[3,4]])\n",
    "print(\"x:%s\"%x)\n",
    "print(\"Sum of x:%s\" %np.sum(x))\n",
    "print(\"Sum axis=0 %s\" %np.sum(x,axis=0))\n",
    "print(\"Sum axis=1 %s\" %np.sum(x,axis=1))"
   ]
  },
  {
   "cell_type": "code",
   "execution_count": 9,
   "id": "403451e2",
   "metadata": {},
   "outputs": [
    {
     "name": "stdout",
     "output_type": "stream",
     "text": [
      "Dot product:-1724114088\n"
     ]
    }
   ],
   "source": [
    "a=np.arange(10000)\n",
    "b=np.arange(10000)\n",
    "dp=np.dot(a,b)\n",
    "print(\"Dot product:%s\" %dp)"
   ]
  },
  {
   "cell_type": "code",
   "execution_count": 10,
   "id": "ae0d8434",
   "metadata": {},
   "outputs": [
    {
     "name": "stdout",
     "output_type": "stream",
     "text": [
      "Outer product:[[       0        0        0 ...        0        0        0]\n",
      " [       0        1        2 ...     9997     9998     9999]\n",
      " [       0        2        4 ...    19994    19996    19998]\n",
      " ...\n",
      " [       0     9997    19994 ... 99940009 99950006 99960003]\n",
      " [       0     9998    19996 ... 99950006 99960004 99970002]\n",
      " [       0     9999    19998 ... 99960003 99970002 99980001]]\n"
     ]
    }
   ],
   "source": [
    "op=np.outer(a,b)\n",
    "print(\"Outer product:%s\" %op)"
   ]
  },
  {
   "cell_type": "code",
   "execution_count": null,
   "id": "7b503741",
   "metadata": {},
   "outputs": [],
   "source": []
  }
 ],
 "metadata": {
  "kernelspec": {
   "display_name": "Python 3 (ipykernel)",
   "language": "python",
   "name": "python3"
  },
  "language_info": {
   "codemirror_mode": {
    "name": "ipython",
    "version": 3
   },
   "file_extension": ".py",
   "mimetype": "text/x-python",
   "name": "python",
   "nbconvert_exporter": "python",
   "pygments_lexer": "ipython3",
   "version": "3.9.13"
  }
 },
 "nbformat": 4,
 "nbformat_minor": 5
}
